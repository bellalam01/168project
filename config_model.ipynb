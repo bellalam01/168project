{
 "cells": [
  {
   "cell_type": "code",
   "execution_count": 1,
   "metadata": {},
   "outputs": [],
   "source": [
    "#import required packages\n",
    "\n",
    "import networkx as nx #networks package we will use for demos\n",
    "import matplotlib.pyplot as plt #networkx uses matplotlib to generate its plots\n",
    "\n",
    "import numpy as np #this is the linear algebra package for working with matrices\n",
    "import pandas as pd #pandas is a dataframe package that is useful for managing network attributes\n",
    "\n",
    "import math #use this package to take the log of a scalar, use numpy to take the element-wise log of an array\n",
    "\n",
    "import os"
   ]
  },
  {
   "cell_type": "code",
   "execution_count": 2,
   "metadata": {},
   "outputs": [
    {
     "data": {
      "text/html": [
       "<div>\n",
       "<style scoped>\n",
       "    .dataframe tbody tr th:only-of-type {\n",
       "        vertical-align: middle;\n",
       "    }\n",
       "\n",
       "    .dataframe tbody tr th {\n",
       "        vertical-align: top;\n",
       "    }\n",
       "\n",
       "    .dataframe thead th {\n",
       "        text-align: right;\n",
       "    }\n",
       "</style>\n",
       "<table border=\"1\" class=\"dataframe\">\n",
       "  <thead>\n",
       "    <tr style=\"text-align: right;\">\n",
       "      <th></th>\n",
       "      <th>Language</th>\n",
       "      <th>Influenced By</th>\n",
       "      <th>Influenced</th>\n",
       "      <th>Year</th>\n",
       "    </tr>\n",
       "  </thead>\n",
       "  <tbody>\n",
       "    <tr>\n",
       "      <th>0</th>\n",
       "      <td>Z++</td>\n",
       "      <td>NaN</td>\n",
       "      <td>NaN</td>\n",
       "      <td>1.0</td>\n",
       "    </tr>\n",
       "    <tr>\n",
       "      <th>1</th>\n",
       "      <td>JEAN</td>\n",
       "      <td>NaN</td>\n",
       "      <td>NaN</td>\n",
       "      <td>1.0</td>\n",
       "    </tr>\n",
       "    <tr>\n",
       "      <th>2</th>\n",
       "      <td>Job Control Language</td>\n",
       "      <td>NaN</td>\n",
       "      <td>[Control Language]</td>\n",
       "      <td>1.0</td>\n",
       "    </tr>\n",
       "    <tr>\n",
       "      <th>3</th>\n",
       "      <td>Jess</td>\n",
       "      <td>NaN</td>\n",
       "      <td>NaN</td>\n",
       "      <td>1.0</td>\n",
       "    </tr>\n",
       "    <tr>\n",
       "      <th>4</th>\n",
       "      <td>JavaFX Script</td>\n",
       "      <td>NaN</td>\n",
       "      <td>NaN</td>\n",
       "      <td>1.0</td>\n",
       "    </tr>\n",
       "    <tr>\n",
       "      <th>...</th>\n",
       "      <td>...</td>\n",
       "      <td>...</td>\n",
       "      <td>...</td>\n",
       "      <td>...</td>\n",
       "    </tr>\n",
       "    <tr>\n",
       "      <th>667</th>\n",
       "      <td>SuperTalk</td>\n",
       "      <td>[HyperTalk]</td>\n",
       "      <td>NaN</td>\n",
       "      <td>2024.0</td>\n",
       "    </tr>\n",
       "    <tr>\n",
       "      <th>668</th>\n",
       "      <td>SYMPL</td>\n",
       "      <td>[JOVIAL]</td>\n",
       "      <td>NaN</td>\n",
       "      <td>2024.0</td>\n",
       "    </tr>\n",
       "    <tr>\n",
       "      <th>669</th>\n",
       "      <td>GRASS</td>\n",
       "      <td>[BASIC]</td>\n",
       "      <td>NaN</td>\n",
       "      <td>2024.0</td>\n",
       "    </tr>\n",
       "    <tr>\n",
       "      <th>670</th>\n",
       "      <td>Visual FoxPro</td>\n",
       "      <td>[dBase]</td>\n",
       "      <td>NaN</td>\n",
       "      <td>2024.0</td>\n",
       "    </tr>\n",
       "    <tr>\n",
       "      <th>671</th>\n",
       "      <td>CobolScript</td>\n",
       "      <td>[COBOL]</td>\n",
       "      <td>NaN</td>\n",
       "      <td>2024.0</td>\n",
       "    </tr>\n",
       "  </tbody>\n",
       "</table>\n",
       "<p>672 rows × 4 columns</p>\n",
       "</div>"
      ],
      "text/plain": [
       "                 Language Influenced By          Influenced    Year\n",
       "0                     Z++           NaN                 NaN     1.0\n",
       "1                    JEAN           NaN                 NaN     1.0\n",
       "2    Job Control Language           NaN  [Control Language]     1.0\n",
       "3                    Jess           NaN                 NaN     1.0\n",
       "4           JavaFX Script           NaN                 NaN     1.0\n",
       "..                    ...           ...                 ...     ...\n",
       "667             SuperTalk   [HyperTalk]                 NaN  2024.0\n",
       "668                 SYMPL      [JOVIAL]                 NaN  2024.0\n",
       "669                 GRASS       [BASIC]                 NaN  2024.0\n",
       "670         Visual FoxPro       [dBase]                 NaN  2024.0\n",
       "671           CobolScript       [COBOL]                 NaN  2024.0\n",
       "\n",
       "[672 rows x 4 columns]"
      ]
     },
     "execution_count": 2,
     "metadata": {},
     "output_type": "execute_result"
    }
   ],
   "source": [
    "df = pd.read_csv('final_cleaned.csv',sep=\",\", header = None)\n",
    "df.columns = [\"idx\",\"Language\", \"Influenced By\", \"Influenced\",\"Year\"]\n",
    "df = df[[\"Language\",\"Influenced By\",\"Influenced\",\"Year\"]]\n",
    "df"
   ]
  },
  {
   "cell_type": "code",
   "execution_count": 3,
   "metadata": {},
   "outputs": [],
   "source": [
    "# get the in degree and out degree sequence\n",
    "k_in = []\n",
    "k_out = []\n",
    "for index, row in df.iterrows():\n",
    "    #print(index)\n",
    "    if pd.isna(row[1]):\n",
    "        k_in.append(0)\n",
    "    else:\n",
    "        k_in.append(row[1].count(',')+1)\n",
    "    if pd.isna(row[2]):\n",
    "        k_out.append(0)\n",
    "    else:\n",
    "        k_out.append(row[2].count(',')+1)"
   ]
  },
  {
   "cell_type": "code",
   "execution_count": 4,
   "metadata": {},
   "outputs": [
    {
     "name": "stdout",
     "output_type": "stream",
     "text": [
      "672\n"
     ]
    }
   ],
   "source": [
    "# calculate flux\n",
    "flux = [0]*len(k_in)\n",
    "print(len(flux))\n"
   ]
  },
  {
   "cell_type": "code",
   "execution_count": 5,
   "metadata": {},
   "outputs": [
    {
     "data": {
      "text/plain": [
       "897"
      ]
     },
     "execution_count": 5,
     "metadata": {},
     "output_type": "execute_result"
    }
   ],
   "source": [
    "sum(k_in)"
   ]
  },
  {
   "cell_type": "code",
   "execution_count": 6,
   "metadata": {},
   "outputs": [
    {
     "data": {
      "text/plain": [
       "897"
      ]
     },
     "execution_count": 6,
     "metadata": {},
     "output_type": "execute_result"
    }
   ],
   "source": [
    "sum(k_out)"
   ]
  },
  {
   "cell_type": "code",
   "execution_count": 7,
   "metadata": {},
   "outputs": [],
   "source": [
    "lamb = [0]*len(k_in)\n",
    "for i in range(1,len(lamb)):\n",
    "    in_sub = k_in[:i]\n",
    "    out_sub = k_out[:i]\n",
    "    sum_in = sum(in_sub)\n",
    "    sum_out = sum(out_sub)\n",
    "    flux[i] = sum_out - sum_in"
   ]
  },
  {
   "cell_type": "code",
   "execution_count": 8,
   "metadata": {},
   "outputs": [],
   "source": [
    "year_list = df[\"Year\"].values.tolist()\n",
    "distinct_yr_list = [*set(year_list)]\n",
    "distinct_yr_list.sort()\n",
    "flux_dict = {}\n",
    "for i in range(len(year_list)):\n",
    "    if year_list[i] in flux_dict:\n",
    "        flux_dict[year_list[i]].append(flux[i])\n",
    "    else:\n",
    "        flux_dict[year_list[i]] = [flux[i]]\n",
    "x_axis = []\n",
    "y_axis = []\n",
    "for i in range(1,len(distinct_yr_list)):\n",
    "    x_axis.append(distinct_yr_list[i])\n",
    "    arr = flux_dict[distinct_yr_list[i]]\n",
    "    avg = sum(arr)/len(arr)\n",
    "    y_axis.append(avg)\n"
   ]
  },
  {
   "cell_type": "code",
   "execution_count": 9,
   "metadata": {},
   "outputs": [
    {
     "data": {
      "image/png": "[encoded data removed]",
      "text/plain": [
       "<Figure size 640x480 with 1 Axes>"
      ]
     },
     "metadata": {},
     "output_type": "display_data"
    }
   ],
   "source": [
    "plt.xticks(fontsize=5, rotation=90)\n",
    "plt.plot(x_axis, y_axis)\n",
    "plt.title('Flux v Time')\n",
    "plt.xlabel('Year',fontsize=1)\n",
    "plt.ylabel('Flux')\n",
    "plt.grid(True)\n",
    "plt.show()"
   ]
  },
  {
   "cell_type": "code",
   "execution_count": 13,
   "metadata": {},
   "outputs": [],
   "source": [
    "import random\n",
    "def randomgraph_edgelist(k_in,k_out):\n",
    "    #value in edgelist holds [[\"Influenced By\"],[\"Influenced\"]] nodes according to their index\n",
    "    edgelist = {}\n",
    "    edgelist[0] = [[],[]]\n",
    "    unclaimed_instub = []\n",
    "    # initialize unclaimed instub\n",
    "    for i in range(k_out[0]):\n",
    "        unclaimed_instub.append(0)\n",
    "    for node in range(1,len(k_out)):\n",
    "        edgelist[node] = [[],[]]\n",
    "        if k_in[node] > 0:\n",
    "            # pick random outstub to connect with \n",
    "            for i in range(k_in[node]):\n",
    "                rand_idx = random.randrange(len(unclaimed_instub))\n",
    "                # should we make sure that we don't have multiedges or will it mess up our calculation? Maybe ask professor\n",
    "                # while unclaimed_instub[rand_idx] in edgelist:\n",
    "                #     rand_idx = random.randrange(len(unclaimed_instub))\n",
    "                edgelist[node][0].append(unclaimed_instub[rand_idx])\n",
    "                edgelist[unclaimed_instub[rand_idx]][1].append(node)\n",
    "                unclaimed_instub.pop(rand_idx)\n",
    "        for j in range(k_out[node]):\n",
    "            unclaimed_instub.append(node)\n",
    "    return edgelist"
   ]
  },
  {
   "cell_type": "code",
   "execution_count": 19,
   "metadata": {},
   "outputs": [],
   "source": [
    "elist1 = randomgraph_edgelist(k_in,k_out)"
   ]
  },
  {
   "cell_type": "code",
   "execution_count": 20,
   "metadata": {},
   "outputs": [],
   "source": [
    "elist2 = randomgraph_edgelist(k_in,k_out)"
   ]
  },
  {
   "cell_type": "code",
   "execution_count": null,
   "metadata": {},
   "outputs": [],
   "source": []
  }
 ],
 "metadata": {
  "kernelspec": {
   "display_name": "Python 3.8.10 ('venv38': venv)",
   "language": "python",
   "name": "python3"
  },
  "language_info": {
   "codemirror_mode": {
    "name": "ipython",
    "version": 3
   },
   "file_extension": ".py",
   "mimetype": "text/x-python",
   "name": "python",
   "nbconvert_exporter": "python",
   "pygments_lexer": "ipython3",
   "version": "3.8.10"
  },
  "orig_nbformat": 4,
  "vscode": {
   "interpreter": {
    "hash": "20661bd87a2060dcbb6d6715a2e4e1c51f49eb5300258f8521b38b1e8dc9c21f"
   }
  }
 },
 "nbformat": 4,
 "nbformat_minor": 2
}
